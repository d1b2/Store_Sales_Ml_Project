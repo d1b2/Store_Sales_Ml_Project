{
 "cells": [
  {
   "cell_type": "code",
   "execution_count": 3,
   "metadata": {},
   "outputs": [],
   "source": [
    "import pandas as pd\n",
    "import numpy as np\n",
    "import os\n",
    "from Store_Sales.utils import *\n",
    "from Store_Sales.constants import *"
   ]
  },
  {
   "cell_type": "code",
   "execution_count": 4,
   "metadata": {},
   "outputs": [
    {
     "data": {
      "text/plain": [
       "'d:\\\\projects\\\\store_sales\\\\Store_Sales_Ml_Project\\\\notebooks'"
      ]
     },
     "execution_count": 4,
     "metadata": {},
     "output_type": "execute_result"
    }
   ],
   "source": [
    "pwd"
   ]
  },
  {
   "cell_type": "code",
   "execution_count": 5,
   "metadata": {},
   "outputs": [],
   "source": [
    "os.chdir(\"../\")"
   ]
  },
  {
   "cell_type": "code",
   "execution_count": 6,
   "metadata": {},
   "outputs": [
    {
     "data": {
      "text/plain": [
       "'d:\\\\projects\\\\store_sales\\\\Store_Sales_Ml_Project'"
      ]
     },
     "execution_count": 6,
     "metadata": {},
     "output_type": "execute_result"
    }
   ],
   "source": [
    "pwd"
   ]
  },
  {
   "cell_type": "code",
   "execution_count": 7,
   "metadata": {},
   "outputs": [],
   "source": [
    "from Store_Sales.utils import *\n",
    "from Store_Sales.constants import *"
   ]
  },
  {
   "cell_type": "code",
   "execution_count": 8,
   "metadata": {},
   "outputs": [],
   "source": [
    "test = pd.read_csv(TEST_FILE_PATH)\n",
    "train=pd.read_csv(TRAIN_FILE_PATH)"
   ]
  },
  {
   "cell_type": "code",
   "execution_count": 9,
   "metadata": {},
   "outputs": [
    {
     "name": "stdout",
     "output_type": "stream",
     "text": [
      "Column with Null values in Train : [('Item_Weight', 1463), ('Outlet_Size', 2410)]\n",
      "Column with Null values in Test : [('Item_Weight', 976), ('Outlet_Size', 1606)]\n"
     ]
    }
   ],
   "source": [
    "na_column_train=[(i,train[i].isnull().sum()) for i in train.columns if train[i].isnull().sum()>0 ]\n",
    "na_column_test=[(i,test[i].isnull().sum()) for i in test.columns if test[i].isnull().sum()>0 ]\n",
    "print(f'Column with Null values in Train : {na_column_train}')\n",
    "print(f'Column with Null values in Test : {na_column_test}')"
   ]
  },
  {
   "cell_type": "code",
   "execution_count": 10,
   "metadata": {},
   "outputs": [
    {
     "name": "stdout",
     "output_type": "stream",
     "text": [
      "<class 'pandas.core.frame.DataFrame'>\n",
      "RangeIndex: 8523 entries, 0 to 8522\n",
      "Data columns (total 12 columns):\n",
      " #   Column                     Non-Null Count  Dtype  \n",
      "---  ------                     --------------  -----  \n",
      " 0   Item_Identifier            8523 non-null   object \n",
      " 1   Item_Weight                7060 non-null   float64\n",
      " 2   Item_Fat_Content           8523 non-null   object \n",
      " 3   Item_Visibility            8523 non-null   float64\n",
      " 4   Item_Type                  8523 non-null   object \n",
      " 5   Item_MRP                   8523 non-null   float64\n",
      " 6   Outlet_Identifier          8523 non-null   object \n",
      " 7   Outlet_Establishment_Year  8523 non-null   int64  \n",
      " 8   Outlet_Size                6113 non-null   object \n",
      " 9   Outlet_Location_Type       8523 non-null   object \n",
      " 10  Outlet_Type                8523 non-null   object \n",
      " 11  Item_Outlet_Sales          8523 non-null   float64\n",
      "dtypes: float64(4), int64(1), object(7)\n",
      "memory usage: 799.2+ KB\n"
     ]
    }
   ],
   "source": [
    "train.info()"
   ]
  },
  {
   "cell_type": "code",
   "execution_count": 12,
   "metadata": {},
   "outputs": [
    {
     "name": "stdout",
     "output_type": "stream",
     "text": [
      "<class 'pandas.core.frame.DataFrame'>\n",
      "RangeIndex: 5681 entries, 0 to 5680\n",
      "Data columns (total 11 columns):\n",
      " #   Column                     Non-Null Count  Dtype  \n",
      "---  ------                     --------------  -----  \n",
      " 0   Item_Identifier            5681 non-null   object \n",
      " 1   Item_Weight                4705 non-null   float64\n",
      " 2   Item_Fat_Content           5681 non-null   object \n",
      " 3   Item_Visibility            5681 non-null   float64\n",
      " 4   Item_Type                  5681 non-null   object \n",
      " 5   Item_MRP                   5681 non-null   float64\n",
      " 6   Outlet_Identifier          5681 non-null   object \n",
      " 7   Outlet_Establishment_Year  5681 non-null   int64  \n",
      " 8   Outlet_Size                4075 non-null   object \n",
      " 9   Outlet_Location_Type       5681 non-null   object \n",
      " 10  Outlet_Type                5681 non-null   object \n",
      "dtypes: float64(3), int64(1), object(7)\n",
      "memory usage: 488.3+ KB\n"
     ]
    }
   ],
   "source": [
    "test.info()"
   ]
  },
  {
   "cell_type": "code",
   "execution_count": 13,
   "metadata": {},
   "outputs": [
    {
     "name": "stdout",
     "output_type": "stream",
     "text": [
      "<class 'pandas.core.frame.DataFrame'>\n",
      "RangeIndex: 14204 entries, 0 to 14203\n",
      "Data columns (total 11 columns):\n",
      " #   Column                     Non-Null Count  Dtype  \n",
      "---  ------                     --------------  -----  \n",
      " 0   Item_Identifier            14204 non-null  object \n",
      " 1   Item_Weight                11765 non-null  float64\n",
      " 2   Item_Fat_Content           14204 non-null  object \n",
      " 3   Item_Visibility            14204 non-null  float64\n",
      " 4   Item_Type                  14204 non-null  object \n",
      " 5   Item_MRP                   14204 non-null  float64\n",
      " 6   Outlet_Identifier          14204 non-null  object \n",
      " 7   Outlet_Establishment_Year  14204 non-null  int64  \n",
      " 8   Outlet_Size                10188 non-null  object \n",
      " 9   Outlet_Location_Type       14204 non-null  object \n",
      " 10  Outlet_Type                14204 non-null  object \n",
      "dtypes: float64(3), int64(1), object(7)\n",
      "memory usage: 1.2+ MB\n"
     ]
    }
   ],
   "source": [
    "X=train.iloc[:,:-1]\n",
    "Y=train.iloc[:,-1]\n",
    "combined_X=pd.concat([X, test], ignore_index=True, axis=0)\n",
    "combined_X.info()"
   ]
  },
  {
   "cell_type": "code",
   "execution_count": 14,
   "metadata": {},
   "outputs": [
    {
     "name": "stdout",
     "output_type": "stream",
     "text": [
      "Column with Null values in Combined dataframe : [('Item_Weight', 2439), ('Outlet_Size', 4016)]\n"
     ]
    }
   ],
   "source": [
    "na_column_combined=[(i,combined_X[i].isnull().sum()) for i in combined_X.columns if combined_X[i].isnull().sum()>0 ]\n",
    "print(f'Column with Null values in Combined dataframe : {na_column_combined}')"
   ]
  },
  {
   "cell_type": "code",
   "execution_count": 15,
   "metadata": {},
   "outputs": [],
   "source": [
    "cat_columns=[i for i in combined_X.columns if combined_X[i].dtype=='object']\n",
    "num_columns=[i for i in combined_X.columns if i not in cat_columns]"
   ]
  },
  {
   "cell_type": "code",
   "execution_count": 16,
   "metadata": {},
   "outputs": [
    {
     "name": "stdout",
     "output_type": "stream",
     "text": [
      "Categorical columns: ['Item_Identifier', 'Item_Fat_Content', 'Item_Type', 'Outlet_Identifier', 'Outlet_Size', 'Outlet_Location_Type', 'Outlet_Type']\n",
      "Numerical columns: ['Item_Weight', 'Item_Visibility', 'Item_MRP', 'Outlet_Establishment_Year']\n"
     ]
    }
   ],
   "source": [
    "print(f'Categorical columns: {cat_columns}')\n",
    "print(f'Numerical columns: {num_columns}')"
   ]
  },
  {
   "cell_type": "code",
   "execution_count": 17,
   "metadata": {},
   "outputs": [],
   "source": [
    "from sklearn.preprocessing import FunctionTransformer,OrdinalEncoder\n",
    "from sklearn.compose import make_column_transformer\n",
    "from sklearn.impute import SimpleImputer\n",
    "from sklearn.impute import KNNImputer"
   ]
  },
  {
   "cell_type": "code",
   "execution_count": 18,
   "metadata": {},
   "outputs": [],
   "source": [
    "def cleanfat(df):\n",
    "    df['Item_Fat_Content'].replace({'low fat':'Low Fat','LF':'Low Fat', 'reg':'Regular'}, inplace=True)\n",
    "    df.loc[df['Item_Identifier'].astype(str).str[:1] == 'N', 'Item_Fat_Content']='Not Applicable'\n",
    "    df.drop(['Item_Identifier'],inplace=True,axis=1)\n",
    "    return df"
   ]
  },
  {
   "cell_type": "code",
   "execution_count": 19,
   "metadata": {},
   "outputs": [],
   "source": [
    "get_clean_fat = FunctionTransformer(cleanfat)"
   ]
  },
  {
   "cell_type": "code",
   "execution_count": 20,
   "metadata": {},
   "outputs": [],
   "source": [
    "impute_constant = SimpleImputer(missing_values=np.nan, strategy='constant',fill_value='Small')"
   ]
  },
  {
   "cell_type": "code",
   "execution_count": 21,
   "metadata": {},
   "outputs": [],
   "source": [
    "ord_encoder=OrdinalEncoder()"
   ]
  },
  {
   "cell_type": "code",
   "execution_count": 22,
   "metadata": {},
   "outputs": [],
   "source": [
    "knn_imputer = KNNImputer(n_neighbors=2, weights=\"uniform\")"
   ]
  },
  {
   "cell_type": "code",
   "execution_count": 23,
   "metadata": {},
   "outputs": [],
   "source": [
    "def custom_imputer_generator(df):\n",
    "    \"\"\"\n",
    "    \"\"\"\n",
    "    df1=df.iloc[:,0:2]\n",
    "    df1['Item_Identifier']=ord_encoder.fit_transform(df1)\n",
    "    df['Item_Weight']=knn_imputer.fit_transform(df1)[:,1]\n",
    "    df['Item_Category']=df['Item_Identifier'].astype(str).str[:1].replace(['F', 'D', 'N'],['Food', 'Drink', 'Non_Consumable'])\n",
    "    return df"
   ]
  },
  {
   "cell_type": "code",
   "execution_count": 24,
   "metadata": {},
   "outputs": [],
   "source": [
    "get_weight = FunctionTransformer(custom_imputer_generator)"
   ]
  },
  {
   "cell_type": "code",
   "execution_count": 25,
   "metadata": {},
   "outputs": [],
   "source": [
    "preprocessor = make_column_transformer(\n",
    "    (get_clean_fat, ['Item_Identifier','Item_Fat_Content']),\n",
    "    (impute_constant,['Outlet_Size']),\n",
    "    (get_weight,['Item_Identifier','Item_Weight']), \n",
    "    remainder='passthrough')"
   ]
  },
  {
   "cell_type": "code",
   "execution_count": 26,
   "metadata": {},
   "outputs": [],
   "source": [
    "a=preprocessor.fit_transform(combined_X)"
   ]
  },
  {
   "cell_type": "code",
   "execution_count": 27,
   "metadata": {},
   "outputs": [
    {
     "data": {
      "text/plain": [
       "array([['Low Fat', 'Medium', 'FDA15', ..., 1999, 'Tier 1',\n",
       "        'Supermarket Type1'],\n",
       "       ['Regular', 'Medium', 'DRC01', ..., 2009, 'Tier 3',\n",
       "        'Supermarket Type2'],\n",
       "       ['Low Fat', 'Medium', 'FDN15', ..., 1999, 'Tier 1',\n",
       "        'Supermarket Type1'],\n",
       "       ...,\n",
       "       ['Not Applicable', 'Small', 'NCO17', ..., 2002, 'Tier 2',\n",
       "        'Supermarket Type1'],\n",
       "       ['Regular', 'Small', 'FDJ26', ..., 2007, 'Tier 2',\n",
       "        'Supermarket Type1'],\n",
       "       ['Regular', 'Small', 'FDU37', ..., 2002, 'Tier 2',\n",
       "        'Supermarket Type1']], dtype=object)"
      ]
     },
     "execution_count": 27,
     "metadata": {},
     "output_type": "execute_result"
    }
   ],
   "source": [
    "a"
   ]
  },
  {
   "cell_type": "code",
   "execution_count": 28,
   "metadata": {},
   "outputs": [],
   "source": [
    "columns_modified=['Item_Fat_Content','Outlet_Size','Item_Identifier','Item_Weight']\n",
    "columns_modified1=columns_modified+['Item_Category']"
   ]
  },
  {
   "cell_type": "code",
   "execution_count": 29,
   "metadata": {},
   "outputs": [
    {
     "data": {
      "text/html": [
       "<div>\n",
       "<style scoped>\n",
       "    .dataframe tbody tr th:only-of-type {\n",
       "        vertical-align: middle;\n",
       "    }\n",
       "\n",
       "    .dataframe tbody tr th {\n",
       "        vertical-align: top;\n",
       "    }\n",
       "\n",
       "    .dataframe thead th {\n",
       "        text-align: right;\n",
       "    }\n",
       "</style>\n",
       "<table border=\"1\" class=\"dataframe\">\n",
       "  <thead>\n",
       "    <tr style=\"text-align: right;\">\n",
       "      <th></th>\n",
       "      <th>Item_Identifier</th>\n",
       "      <th>Item_Weight</th>\n",
       "      <th>Item_Category</th>\n",
       "      <th>Item_Fat_Content</th>\n",
       "      <th>Item_Visibility</th>\n",
       "      <th>Item_Type</th>\n",
       "      <th>Item_MRP</th>\n",
       "      <th>Outlet_Identifier</th>\n",
       "      <th>Outlet_Establishment_Year</th>\n",
       "      <th>Outlet_Size</th>\n",
       "      <th>Outlet_Location_Type</th>\n",
       "      <th>Outlet_Type</th>\n",
       "    </tr>\n",
       "  </thead>\n",
       "  <tbody>\n",
       "    <tr>\n",
       "      <th>0</th>\n",
       "      <td>FDA15</td>\n",
       "      <td>284.0</td>\n",
       "      <td>Food</td>\n",
       "      <td>Low Fat</td>\n",
       "      <td>0.016047</td>\n",
       "      <td>Dairy</td>\n",
       "      <td>249.8092</td>\n",
       "      <td>OUT049</td>\n",
       "      <td>1999</td>\n",
       "      <td>Medium</td>\n",
       "      <td>Tier 1</td>\n",
       "      <td>Supermarket Type1</td>\n",
       "    </tr>\n",
       "    <tr>\n",
       "      <th>1</th>\n",
       "      <td>DRC01</td>\n",
       "      <td>57.0</td>\n",
       "      <td>Drink</td>\n",
       "      <td>Regular</td>\n",
       "      <td>0.019278</td>\n",
       "      <td>Soft Drinks</td>\n",
       "      <td>48.2692</td>\n",
       "      <td>OUT018</td>\n",
       "      <td>2009</td>\n",
       "      <td>Medium</td>\n",
       "      <td>Tier 3</td>\n",
       "      <td>Supermarket Type2</td>\n",
       "    </tr>\n",
       "    <tr>\n",
       "      <th>2</th>\n",
       "      <td>FDN15</td>\n",
       "      <td>375.0</td>\n",
       "      <td>Food</td>\n",
       "      <td>Low Fat</td>\n",
       "      <td>0.016760</td>\n",
       "      <td>Meat</td>\n",
       "      <td>141.6180</td>\n",
       "      <td>OUT049</td>\n",
       "      <td>1999</td>\n",
       "      <td>Medium</td>\n",
       "      <td>Tier 1</td>\n",
       "      <td>Supermarket Type1</td>\n",
       "    </tr>\n",
       "    <tr>\n",
       "      <th>3</th>\n",
       "      <td>FDX07</td>\n",
       "      <td>392.0</td>\n",
       "      <td>Food</td>\n",
       "      <td>Regular</td>\n",
       "      <td>0.000000</td>\n",
       "      <td>Fruits and Vegetables</td>\n",
       "      <td>182.0950</td>\n",
       "      <td>OUT010</td>\n",
       "      <td>1998</td>\n",
       "      <td>Small</td>\n",
       "      <td>Tier 3</td>\n",
       "      <td>Grocery Store</td>\n",
       "    </tr>\n",
       "    <tr>\n",
       "      <th>4</th>\n",
       "      <td>NCD19</td>\n",
       "      <td>265.0</td>\n",
       "      <td>Non_Consumable</td>\n",
       "      <td>Not Applicable</td>\n",
       "      <td>0.000000</td>\n",
       "      <td>Household</td>\n",
       "      <td>53.8614</td>\n",
       "      <td>OUT013</td>\n",
       "      <td>1987</td>\n",
       "      <td>High</td>\n",
       "      <td>Tier 3</td>\n",
       "      <td>Supermarket Type1</td>\n",
       "    </tr>\n",
       "  </tbody>\n",
       "</table>\n",
       "</div>"
      ],
      "text/plain": [
       "  Item_Identifier  Item_Weight   Item_Category Item_Fat_Content  \\\n",
       "0           FDA15        284.0            Food          Low Fat   \n",
       "1           DRC01         57.0           Drink          Regular   \n",
       "2           FDN15        375.0            Food          Low Fat   \n",
       "3           FDX07        392.0            Food          Regular   \n",
       "4           NCD19        265.0  Non_Consumable   Not Applicable   \n",
       "\n",
       "   Item_Visibility              Item_Type  Item_MRP Outlet_Identifier  \\\n",
       "0         0.016047                  Dairy  249.8092            OUT049   \n",
       "1         0.019278            Soft Drinks   48.2692            OUT018   \n",
       "2         0.016760                   Meat  141.6180            OUT049   \n",
       "3         0.000000  Fruits and Vegetables  182.0950            OUT010   \n",
       "4         0.000000              Household   53.8614            OUT013   \n",
       "\n",
       "   Outlet_Establishment_Year Outlet_Size Outlet_Location_Type  \\\n",
       "0                       1999      Medium               Tier 1   \n",
       "1                       2009      Medium               Tier 3   \n",
       "2                       1999      Medium               Tier 1   \n",
       "3                       1998       Small               Tier 3   \n",
       "4                       1987        High               Tier 3   \n",
       "\n",
       "         Outlet_Type  \n",
       "0  Supermarket Type1  \n",
       "1  Supermarket Type2  \n",
       "2  Supermarket Type1  \n",
       "3      Grocery Store  \n",
       "4  Supermarket Type1  "
      ]
     },
     "execution_count": 29,
     "metadata": {},
     "output_type": "execute_result"
    }
   ],
   "source": [
    "X1=pd.DataFrame(a,columns=columns_modified1+list(combined_X.columns.drop(columns_modified)))\n",
    "X1=X1[list(X.columns[:2])+['Item_Category']+list(combined_X.columns[2:])]\n",
    "X1[num_columns] = X1[num_columns].apply(pd.to_numeric)\n",
    "X1.head()"
   ]
  },
  {
   "cell_type": "code",
   "execution_count": 37,
   "metadata": {},
   "outputs": [
    {
     "name": "stdout",
     "output_type": "stream",
     "text": [
      "<class 'pandas.core.frame.DataFrame'>\n",
      "RangeIndex: 14204 entries, 0 to 14203\n",
      "Data columns (total 12 columns):\n",
      " #   Column                     Non-Null Count  Dtype  \n",
      "---  ------                     --------------  -----  \n",
      " 0   Item_Identifier            14204 non-null  object \n",
      " 1   Item_Weight                14204 non-null  float64\n",
      " 2   Item_Category              14204 non-null  object \n",
      " 3   Item_Fat_Content           14204 non-null  object \n",
      " 4   Item_Visibility            14204 non-null  float64\n",
      " 5   Item_Type                  14204 non-null  object \n",
      " 6   Item_MRP                   14204 non-null  float64\n",
      " 7   Outlet_Identifier          14204 non-null  object \n",
      " 8   Outlet_Establishment_Year  14204 non-null  int64  \n",
      " 9   Outlet_Size                14204 non-null  object \n",
      " 10  Outlet_Location_Type       14204 non-null  object \n",
      " 11  Outlet_Type                14204 non-null  object \n",
      "dtypes: float64(3), int64(1), object(8)\n",
      "memory usage: 1.3+ MB\n"
     ]
    }
   ],
   "source": [
    "X1.info()"
   ]
  },
  {
   "cell_type": "code",
   "execution_count": 38,
   "metadata": {},
   "outputs": [
    {
     "data": {
      "text/plain": [
       "Low Fat           6499\n",
       "Regular           5019\n",
       "Not Applicable    2686\n",
       "Name: Item_Fat_Content, dtype: int64"
      ]
     },
     "execution_count": 38,
     "metadata": {},
     "output_type": "execute_result"
    }
   ],
   "source": [
    "X1.Item_Fat_Content.value_counts()"
   ]
  },
  {
   "cell_type": "code",
   "execution_count": 39,
   "metadata": {},
   "outputs": [
    {
     "data": {
      "text/html": [
       "<div>\n",
       "<style scoped>\n",
       "    .dataframe tbody tr th:only-of-type {\n",
       "        vertical-align: middle;\n",
       "    }\n",
       "\n",
       "    .dataframe tbody tr th {\n",
       "        vertical-align: top;\n",
       "    }\n",
       "\n",
       "    .dataframe thead th {\n",
       "        text-align: right;\n",
       "    }\n",
       "</style>\n",
       "<table border=\"1\" class=\"dataframe\">\n",
       "  <thead>\n",
       "    <tr style=\"text-align: right;\">\n",
       "      <th></th>\n",
       "      <th>Item_Identifier</th>\n",
       "      <th>Item_Weight</th>\n",
       "      <th>Item_Category</th>\n",
       "      <th>Item_Fat_Content</th>\n",
       "      <th>Item_Visibility</th>\n",
       "      <th>Item_Type</th>\n",
       "      <th>Item_MRP</th>\n",
       "      <th>Outlet_Identifier</th>\n",
       "      <th>Outlet_Establishment_Year</th>\n",
       "      <th>Outlet_Size</th>\n",
       "      <th>Outlet_Location_Type</th>\n",
       "      <th>Outlet_Type</th>\n",
       "    </tr>\n",
       "  </thead>\n",
       "  <tbody>\n",
       "    <tr>\n",
       "      <th>0</th>\n",
       "      <td>FDW58</td>\n",
       "      <td>408.0</td>\n",
       "      <td>Food</td>\n",
       "      <td>Low Fat</td>\n",
       "      <td>0.007565</td>\n",
       "      <td>Snack Foods</td>\n",
       "      <td>107.8622</td>\n",
       "      <td>OUT049</td>\n",
       "      <td>1999</td>\n",
       "      <td>Medium</td>\n",
       "      <td>Tier 1</td>\n",
       "      <td>Supermarket Type1</td>\n",
       "    </tr>\n",
       "    <tr>\n",
       "      <th>1</th>\n",
       "      <td>FDW14</td>\n",
       "      <td>226.0</td>\n",
       "      <td>Food</td>\n",
       "      <td>Regular</td>\n",
       "      <td>0.038428</td>\n",
       "      <td>Dairy</td>\n",
       "      <td>87.3198</td>\n",
       "      <td>OUT017</td>\n",
       "      <td>2007</td>\n",
       "      <td>Small</td>\n",
       "      <td>Tier 2</td>\n",
       "      <td>Supermarket Type1</td>\n",
       "    </tr>\n",
       "  </tbody>\n",
       "</table>\n",
       "</div>"
      ],
      "text/plain": [
       "  Item_Identifier  Item_Weight Item_Category Item_Fat_Content  \\\n",
       "0           FDW58        408.0          Food          Low Fat   \n",
       "1           FDW14        226.0          Food          Regular   \n",
       "\n",
       "   Item_Visibility    Item_Type  Item_MRP Outlet_Identifier  \\\n",
       "0         0.007565  Snack Foods  107.8622            OUT049   \n",
       "1         0.038428        Dairy   87.3198            OUT017   \n",
       "\n",
       "   Outlet_Establishment_Year Outlet_Size Outlet_Location_Type  \\\n",
       "0                       1999      Medium               Tier 1   \n",
       "1                       2007       Small               Tier 2   \n",
       "\n",
       "         Outlet_Type  \n",
       "0  Supermarket Type1  \n",
       "1  Supermarket Type1  "
      ]
     },
     "execution_count": 39,
     "metadata": {},
     "output_type": "execute_result"
    }
   ],
   "source": [
    "train,test=X1.iloc[:8523,:],X1.iloc[8523:,:]\n",
    "test.reset_index(drop=True,inplace=True)\n",
    "test.head(2)"
   ]
  },
  {
   "cell_type": "code",
   "execution_count": 40,
   "metadata": {},
   "outputs": [
    {
     "name": "stderr",
     "output_type": "stream",
     "text": [
      "C:\\Users\\HP\\AppData\\Local\\Temp\\ipykernel_23068\\809080879.py:1: SettingWithCopyWarning: \n",
      "A value is trying to be set on a copy of a slice from a DataFrame.\n",
      "Try using .loc[row_indexer,col_indexer] = value instead\n",
      "\n",
      "See the caveats in the documentation: https://pandas.pydata.org/pandas-docs/stable/user_guide/indexing.html#returning-a-view-versus-a-copy\n",
      "  train['Item_Outlet_Sales']=Y.values\n"
     ]
    }
   ],
   "source": [
    "train['Item_Outlet_Sales']=Y.values"
   ]
  },
  {
   "cell_type": "code",
   "execution_count": 41,
   "metadata": {},
   "outputs": [
    {
     "name": "stderr",
     "output_type": "stream",
     "text": [
      "C:\\Users\\HP\\AppData\\Local\\Temp\\ipykernel_23068\\2582285936.py:1: SettingWithCopyWarning: \n",
      "A value is trying to be set on a copy of a slice from a DataFrame.\n",
      "Try using .loc[row_indexer,col_indexer] = value instead\n",
      "\n",
      "See the caveats in the documentation: https://pandas.pydata.org/pandas-docs/stable/user_guide/indexing.html#returning-a-view-versus-a-copy\n",
      "  train['Sales_cat']=pd.cut(\n"
     ]
    }
   ],
   "source": [
    "train['Sales_cat']=pd.cut(\n",
    "                train[\"Item_Outlet_Sales\"],\n",
    "                bins=[0, 3000, 6000, 9000, 13100],\n",
    "                labels=[1,2,3,4]\n",
    "            )"
   ]
  },
  {
   "cell_type": "code",
   "execution_count": 42,
   "metadata": {},
   "outputs": [],
   "source": [
    "#stratifiedschufflesplit\n",
    "from sklearn.model_selection import StratifiedShuffleSplit\n",
    "split = StratifiedShuffleSplit(n_splits=1, test_size=0.2, random_state=42)"
   ]
  },
  {
   "cell_type": "code",
   "execution_count": 43,
   "metadata": {},
   "outputs": [],
   "source": [
    "for train_index,validation_index in split.split(train,train['Sales_cat']):\n",
    "            strat_train_set = train.loc[train_index].drop(['Sales_cat'],axis=1)\n",
    "            strat_validation_set= train.loc[validation_index].drop(['Sales_cat'],axis=1)"
   ]
  },
  {
   "cell_type": "code",
   "execution_count": 44,
   "metadata": {},
   "outputs": [],
   "source": [
    "strat_validation_set.reset_index(drop=True,inplace=True)"
   ]
  },
  {
   "cell_type": "code",
   "execution_count": 45,
   "metadata": {},
   "outputs": [],
   "source": [
    "X_train,y_train=strat_train_set.iloc[:,:-1],strat_train_set.iloc[:,-1]\n",
    "X_test,y_test=strat_validation_set.iloc[:,:-1],strat_validation_set.iloc[:,-1]"
   ]
  },
  {
   "cell_type": "code",
   "execution_count": 46,
   "metadata": {},
   "outputs": [],
   "source": [
    "from sklearn.preprocessing import RobustScaler,StandardScaler\n",
    "\n",
    "from sklearn.feature_selection import SequentialFeatureSelector as sfs\n",
    "from sklearn.feature_selection import RFE\n",
    "from sklearn.linear_model import LinearRegression\n",
    "from sklearn.ensemble import RandomForestRegressor"
   ]
  },
  {
   "cell_type": "code",
   "execution_count": 49,
   "metadata": {},
   "outputs": [],
   "source": [
    "cat_columns1=[i for i in X_train.columns if X_train[i].dtype=='object']\n",
    "num_columns1=[i for i in X_train.columns if i not in cat_columns1]"
   ]
  },
  {
   "cell_type": "code",
   "execution_count": 50,
   "metadata": {},
   "outputs": [],
   "source": [
    "num_columns1.remove('Item_Visibility')"
   ]
  },
  {
   "cell_type": "code",
   "execution_count": 51,
   "metadata": {},
   "outputs": [],
   "source": [
    "scaler=StandardScaler()\n",
    "robust=RobustScaler()"
   ]
  },
  {
   "cell_type": "code",
   "execution_count": 52,
   "metadata": {},
   "outputs": [],
   "source": [
    "ct2_1 = make_column_transformer(\n",
    "    (ord_encoder,cat_columns1), \n",
    "    (robust,['Item_Visibility']),\n",
    "    (scaler,num_columns1),\n",
    "    remainder='passthrough')"
   ]
  },
  {
   "cell_type": "code",
   "execution_count": 53,
   "metadata": {},
   "outputs": [
    {
     "data": {
      "text/plain": [
       "array([[ 1.36900000e+03,  2.00000000e+00,  1.00000000e+00, ...,\n",
       "         1.88851186e-01, -6.37016647e-01, -1.30714335e+00],\n",
       "       [ 1.25100000e+03,  1.00000000e+00,  2.00000000e+00, ...,\n",
       "         1.21448317e-01,  1.30790041e+00, -1.30714335e+00],\n",
       "       [ 4.00000000e+02,  1.00000000e+00,  2.00000000e+00, ...,\n",
       "        -1.79471898e+00, -2.95813516e-01, -1.54718061e+00],\n",
       "       ...,\n",
       "       [ 1.47600000e+03,  2.00000000e+00,  1.00000000e+00, ...,\n",
       "         2.94769981e-01, -5.19725255e-01,  1.33080205e-01],\n",
       "       [ 7.80000000e+02,  1.00000000e+00,  0.00000000e+00, ...,\n",
       "         3.14027944e-01,  4.96347471e-01,  1.33326650e+00],\n",
       "       [ 1.01700000e+03,  1.00000000e+00,  2.00000000e+00, ...,\n",
       "        -9.28110652e-01,  2.83740733e-01, -1.54718061e+00]])"
      ]
     },
     "execution_count": 53,
     "metadata": {},
     "output_type": "execute_result"
    }
   ],
   "source": [
    "a=ct2_1.fit_transform(X_train)\n",
    "a"
   ]
  },
  {
   "cell_type": "code",
   "execution_count": 54,
   "metadata": {},
   "outputs": [],
   "source": [
    "X2_train=pd.DataFrame(a,columns=cat_columns1+['Item_Visibility']+num_columns1)\n",
    "X2_train=X2_train[(X_train.columns)]\n",
    "X2_train = X2_train.apply(pd.to_numeric)"
   ]
  },
  {
   "cell_type": "code",
   "execution_count": 55,
   "metadata": {},
   "outputs": [
    {
     "name": "stdout",
     "output_type": "stream",
     "text": [
      "<class 'pandas.core.frame.DataFrame'>\n",
      "RangeIndex: 6818 entries, 0 to 6817\n",
      "Data columns (total 13 columns):\n",
      " #   Column                     Non-Null Count  Dtype  \n",
      "---  ------                     --------------  -----  \n",
      " 0   Item_Identifier            6818 non-null   float64\n",
      " 1   Item_Weight                6818 non-null   float64\n",
      " 2   Item_Category              6818 non-null   float64\n",
      " 3   Item_Fat_Content           6818 non-null   float64\n",
      " 4   Item_Visibility            6818 non-null   float64\n",
      " 5   Item_Type                  6818 non-null   float64\n",
      " 6   Item_MRP                   6818 non-null   float64\n",
      " 7   Outlet_Identifier          6818 non-null   float64\n",
      " 8   Outlet_Establishment_Year  6818 non-null   float64\n",
      " 9   Outlet_Size                6818 non-null   float64\n",
      " 10  Outlet_Location_Type       6818 non-null   float64\n",
      " 11  Outlet_Type                6818 non-null   float64\n",
      " 12  Item_Outlet_Sales          6818 non-null   float64\n",
      "dtypes: float64(13)\n",
      "memory usage: 692.6 KB\n"
     ]
    }
   ],
   "source": [
    "X2_train['Item_Outlet_Sales']=y_train.values\n",
    "X2_train.info()"
   ]
  },
  {
   "cell_type": "code",
   "execution_count": 56,
   "metadata": {},
   "outputs": [
    {
     "data": {
      "text/plain": [
       "Item_Outlet_Sales            1.000000\n",
       "Item_MRP                     0.572644\n",
       "Outlet_Type                  0.397331\n",
       "Outlet_Identifier            0.160001\n",
       "Outlet_Size                  0.159704\n",
       "Item_Visibility              0.126616\n",
       "Outlet_Location_Type         0.087470\n",
       "Outlet_Establishment_Year    0.041060\n",
       "Item_Fat_Content             0.020390\n",
       "Item_Category                0.016086\n",
       "Item_Type                    0.015365\n",
       "Item_Identifier              0.010026\n",
       "Item_Weight                  0.006204\n",
       "Name: Item_Outlet_Sales, dtype: float64"
      ]
     },
     "execution_count": 56,
     "metadata": {},
     "output_type": "execute_result"
    }
   ],
   "source": [
    "abs(X2_train.corr()['Item_Outlet_Sales']).sort_values(ascending=False)"
   ]
  },
  {
   "cell_type": "code",
   "execution_count": 57,
   "metadata": {},
   "outputs": [],
   "source": [
    "import matplotlib.pyplot as plt\n",
    "import seaborn as sns"
   ]
  },
  {
   "cell_type": "code",
   "execution_count": 58,
   "metadata": {},
   "outputs": [
    {
     "data": {
      "text/plain": [
       "<AxesSubplot:>"
      ]
     },
     "execution_count": 58,
     "metadata": {},
     "output_type": "execute_result"
    },
    {
     "data": {
      "image/png": "[encoded data removed]",
      "text/plain": [
       "<Figure size 1600x1200 with 2 Axes>"
      ]
     },
     "metadata": {},
     "output_type": "display_data"
    }
   ],
   "source": [
    "plt.figure(figsize=(16,12))\n",
    "sns.heatmap(X2_train.corr(), center=0, annot=True, \n",
    "                fmt='.2f', square=True)"
   ]
  },
  {
   "cell_type": "code",
   "execution_count": 59,
   "metadata": {},
   "outputs": [],
   "source": [
    "X=X2_train.iloc[:,:-1]"
   ]
  },
  {
   "cell_type": "code",
   "execution_count": 60,
   "metadata": {},
   "outputs": [],
   "source": [
    "lreg = LinearRegression()\n",
    "sfs1 = sfs(lreg, n_features_to_select=10)\n",
    "sfs1 = sfs1.fit(X, y_train)"
   ]
  },
  {
   "cell_type": "code",
   "execution_count": 61,
   "metadata": {},
   "outputs": [],
   "source": [
    "feat_status=list(sfs1.get_support())"
   ]
  },
  {
   "cell_type": "code",
   "execution_count": 62,
   "metadata": {},
   "outputs": [
    {
     "data": {
      "text/plain": [
       "[False, True, True, True, True, True, True, True, False, True, True, True]"
      ]
     },
     "execution_count": 62,
     "metadata": {},
     "output_type": "execute_result"
    }
   ],
   "source": [
    "feat_status"
   ]
  },
  {
   "cell_type": "code",
   "execution_count": 63,
   "metadata": {},
   "outputs": [
    {
     "name": "stdout",
     "output_type": "stream",
     "text": [
      "['Item_Identifier', 'Item_Weight', 'Item_Category', 'Item_Fat_Content', 'Item_Visibility', 'Item_Type', 'Item_MRP', 'Outlet_Identifier', 'Outlet_Establishment_Year', 'Outlet_Size', 'Outlet_Location_Type', 'Outlet_Type']\n"
     ]
    }
   ],
   "source": [
    "feat_names = list(sfs1.feature_names_in_)\n",
    "print(feat_names)"
   ]
  },
  {
   "cell_type": "code",
   "execution_count": 64,
   "metadata": {},
   "outputs": [
    {
     "name": "stdout",
     "output_type": "stream",
     "text": [
      "{'Item_Identifier': False, 'Item_Weight': True, 'Item_Category': True, 'Item_Fat_Content': True, 'Item_Visibility': True, 'Item_Type': True, 'Item_MRP': True, 'Outlet_Identifier': True, 'Outlet_Establishment_Year': False, 'Outlet_Size': True, 'Outlet_Location_Type': True, 'Outlet_Type': True}\n"
     ]
    }
   ],
   "source": [
    "feat_list1=dict(zip(feat_names,feat_status))\n",
    "print(feat_list1)"
   ]
  },
  {
   "cell_type": "code",
   "execution_count": 65,
   "metadata": {},
   "outputs": [
    {
     "name": "stdout",
     "output_type": "stream",
     "text": [
      "{'Item_Identifier': True, 'Item_Weight': False, 'Item_Category': True, 'Item_Fat_Content': True, 'Item_Visibility': True, 'Item_Type': True, 'Item_MRP': True, 'Outlet_Identifier': True, 'Outlet_Establishment_Year': False, 'Outlet_Size': True, 'Outlet_Location_Type': True, 'Outlet_Type': True}\n"
     ]
    }
   ],
   "source": [
    "sfs1_2 = sfs(lreg, n_features_to_select=10,direction='backward')\n",
    "sfs1_2 = sfs1_2.fit(X, y_train)\n",
    "feat_names1_2 = list(sfs1_2.feature_names_in_)\n",
    "feat_status1_2=list(sfs1_2.get_support())\n",
    "feat_list1_2=dict(zip(feat_names1_2,feat_status1_2))\n",
    "print(feat_list1_2)"
   ]
  },
  {
   "cell_type": "code",
   "execution_count": 66,
   "metadata": {},
   "outputs": [
    {
     "name": "stdout",
     "output_type": "stream",
     "text": [
      "{'Item_Identifier': True, 'Item_Weight': True, 'Item_Category': True, 'Item_Fat_Content': True, 'Item_Visibility': True, 'Item_Type': True, 'Item_MRP': True, 'Outlet_Identifier': True, 'Outlet_Establishment_Year': False, 'Outlet_Size': False, 'Outlet_Location_Type': True, 'Outlet_Type': True}\n"
     ]
    }
   ],
   "source": [
    "regr = RandomForestRegressor(max_depth=2, random_state=0)\n",
    "sfs2 = sfs(regr, n_features_to_select=10)\n",
    "sfs2 = sfs2.fit(X, y_train)\n",
    "feat_names1 = list(sfs2.feature_names_in_)\n",
    "feat_status1=list(sfs2.get_support())\n",
    "feat_list2=dict(zip(feat_names1,feat_status1))\n",
    "print(feat_list2)"
   ]
  },
  {
   "cell_type": "code",
   "execution_count": 67,
   "metadata": {},
   "outputs": [
    {
     "name": "stdout",
     "output_type": "stream",
     "text": [
      "{'Item_Identifier': False, 'Item_Weight': True, 'Item_Category': True, 'Item_Fat_Content': False, 'Item_Visibility': True, 'Item_Type': True, 'Item_MRP': True, 'Outlet_Identifier': True, 'Outlet_Establishment_Year': True, 'Outlet_Size': True, 'Outlet_Location_Type': True, 'Outlet_Type': True}\n"
     ]
    }
   ],
   "source": [
    "sfs2_2 = sfs(regr, n_features_to_select=10,direction='backward')\n",
    "sfs2_2 = sfs2_2.fit(X, y_train)\n",
    "feat_names2_2 = list(sfs2_2.feature_names_in_)\n",
    "feat_status2_2=list(sfs2_2.get_support())\n",
    "feat_list2_2=dict(zip(feat_names2_2,feat_status2_2))\n",
    "print(feat_list2_2)"
   ]
  },
  {
   "cell_type": "code",
   "execution_count": null,
   "metadata": {},
   "outputs": [],
   "source": []
  },
  {
   "cell_type": "code",
   "execution_count": 68,
   "metadata": {},
   "outputs": [],
   "source": [
    "feat_list_combined=[feat_list1,feat_list1_2,feat_list2,feat_list2_2]"
   ]
  },
  {
   "cell_type": "code",
   "execution_count": 69,
   "metadata": {},
   "outputs": [],
   "source": [
    "df1=pd.DataFrame(feat_list_combined,index=['Lr_f','Lr_b','Rf_f','Rf_b'])"
   ]
  },
  {
   "cell_type": "code",
   "execution_count": 70,
   "metadata": {},
   "outputs": [
    {
     "data": {
      "text/html": [
       "<div>\n",
       "<style scoped>\n",
       "    .dataframe tbody tr th:only-of-type {\n",
       "        vertical-align: middle;\n",
       "    }\n",
       "\n",
       "    .dataframe tbody tr th {\n",
       "        vertical-align: top;\n",
       "    }\n",
       "\n",
       "    .dataframe thead th {\n",
       "        text-align: right;\n",
       "    }\n",
       "</style>\n",
       "<table border=\"1\" class=\"dataframe\">\n",
       "  <thead>\n",
       "    <tr style=\"text-align: right;\">\n",
       "      <th></th>\n",
       "      <th>Lr_f</th>\n",
       "      <th>Lr_b</th>\n",
       "      <th>Rf_f</th>\n",
       "      <th>Rf_b</th>\n",
       "      <th>Sum_of_row</th>\n",
       "    </tr>\n",
       "  </thead>\n",
       "  <tbody>\n",
       "    <tr>\n",
       "      <th>Item_Identifier</th>\n",
       "      <td>False</td>\n",
       "      <td>True</td>\n",
       "      <td>True</td>\n",
       "      <td>False</td>\n",
       "      <td>2</td>\n",
       "    </tr>\n",
       "    <tr>\n",
       "      <th>Item_Weight</th>\n",
       "      <td>True</td>\n",
       "      <td>False</td>\n",
       "      <td>True</td>\n",
       "      <td>True</td>\n",
       "      <td>3</td>\n",
       "    </tr>\n",
       "    <tr>\n",
       "      <th>Item_Category</th>\n",
       "      <td>True</td>\n",
       "      <td>True</td>\n",
       "      <td>True</td>\n",
       "      <td>True</td>\n",
       "      <td>4</td>\n",
       "    </tr>\n",
       "    <tr>\n",
       "      <th>Item_Fat_Content</th>\n",
       "      <td>True</td>\n",
       "      <td>True</td>\n",
       "      <td>True</td>\n",
       "      <td>False</td>\n",
       "      <td>3</td>\n",
       "    </tr>\n",
       "    <tr>\n",
       "      <th>Item_Visibility</th>\n",
       "      <td>True</td>\n",
       "      <td>True</td>\n",
       "      <td>True</td>\n",
       "      <td>True</td>\n",
       "      <td>4</td>\n",
       "    </tr>\n",
       "    <tr>\n",
       "      <th>Item_Type</th>\n",
       "      <td>True</td>\n",
       "      <td>True</td>\n",
       "      <td>True</td>\n",
       "      <td>True</td>\n",
       "      <td>4</td>\n",
       "    </tr>\n",
       "    <tr>\n",
       "      <th>Item_MRP</th>\n",
       "      <td>True</td>\n",
       "      <td>True</td>\n",
       "      <td>True</td>\n",
       "      <td>True</td>\n",
       "      <td>4</td>\n",
       "    </tr>\n",
       "    <tr>\n",
       "      <th>Outlet_Identifier</th>\n",
       "      <td>True</td>\n",
       "      <td>True</td>\n",
       "      <td>True</td>\n",
       "      <td>True</td>\n",
       "      <td>4</td>\n",
       "    </tr>\n",
       "    <tr>\n",
       "      <th>Outlet_Establishment_Year</th>\n",
       "      <td>False</td>\n",
       "      <td>False</td>\n",
       "      <td>False</td>\n",
       "      <td>True</td>\n",
       "      <td>1</td>\n",
       "    </tr>\n",
       "    <tr>\n",
       "      <th>Outlet_Size</th>\n",
       "      <td>True</td>\n",
       "      <td>True</td>\n",
       "      <td>False</td>\n",
       "      <td>True</td>\n",
       "      <td>3</td>\n",
       "    </tr>\n",
       "    <tr>\n",
       "      <th>Outlet_Location_Type</th>\n",
       "      <td>True</td>\n",
       "      <td>True</td>\n",
       "      <td>True</td>\n",
       "      <td>True</td>\n",
       "      <td>4</td>\n",
       "    </tr>\n",
       "    <tr>\n",
       "      <th>Outlet_Type</th>\n",
       "      <td>True</td>\n",
       "      <td>True</td>\n",
       "      <td>True</td>\n",
       "      <td>True</td>\n",
       "      <td>4</td>\n",
       "    </tr>\n",
       "  </tbody>\n",
       "</table>\n",
       "</div>"
      ],
      "text/plain": [
       "                            Lr_f   Lr_b   Rf_f   Rf_b  Sum_of_row\n",
       "Item_Identifier            False   True   True  False           2\n",
       "Item_Weight                 True  False   True   True           3\n",
       "Item_Category               True   True   True   True           4\n",
       "Item_Fat_Content            True   True   True  False           3\n",
       "Item_Visibility             True   True   True   True           4\n",
       "Item_Type                   True   True   True   True           4\n",
       "Item_MRP                    True   True   True   True           4\n",
       "Outlet_Identifier           True   True   True   True           4\n",
       "Outlet_Establishment_Year  False  False  False   True           1\n",
       "Outlet_Size                 True   True  False   True           3\n",
       "Outlet_Location_Type        True   True   True   True           4\n",
       "Outlet_Type                 True   True   True   True           4"
      ]
     },
     "execution_count": 70,
     "metadata": {},
     "output_type": "execute_result"
    }
   ],
   "source": [
    "df2=df1.T\n",
    "df2['Sum_of_row'] = df2.loc[ : , :].sum(axis = 1)\n",
    "df2"
   ]
  },
  {
   "cell_type": "code",
   "execution_count": null,
   "metadata": {},
   "outputs": [],
   "source": []
  }
 ],
 "metadata": {
  "kernelspec": {
   "display_name": "base",
   "language": "python",
   "name": "python3"
  },
  "language_info": {
   "codemirror_mode": {
    "name": "ipython",
    "version": 3
   },
   "file_extension": ".py",
   "mimetype": "text/x-python",
   "name": "python",
   "nbconvert_exporter": "python",
   "pygments_lexer": "ipython3",
   "version": "3.9.13"
  },
  "orig_nbformat": 4
 },
 "nbformat": 4,
 "nbformat_minor": 2
}
